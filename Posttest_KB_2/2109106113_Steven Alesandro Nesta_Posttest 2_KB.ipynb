{
 "cells": [
  {
   "cell_type": "markdown",
   "id": "0fa25758-124f-434d-87c5-a693054d020b",
   "metadata": {},
   "source": [
    "### DataSet Lazada https://drive.google.com/drive/folders/1-Vzi94sbb4yxKwbbp_yddJ4jYbEm8rDb?usp=drive_link"
   ]
  },
  {
   "cell_type": "markdown",
   "id": "d0ab54ae-ae21-4157-bf54-71f77ddb8f1f",
   "metadata": {},
   "source": [
    "### soal no 1"
   ]
  },
  {
   "cell_type": "code",
   "execution_count": 1,
   "id": "a66162ff-7401-44da-8f88-368c5f474b13",
   "metadata": {},
   "outputs": [
    {
     "name": "stdout",
     "output_type": "stream",
     "text": [
      "Mean: 283647856.64786273\n",
      "Standard Deviation: 172620746.1329689\n",
      "Minimum Value: 6068\n",
      "Maximum Value: 724216967\n",
      "Q1 (25th Percentile): 160008566.0\n",
      "Q2 (Median - 50th Percentile): 354115963.0\n",
      "Q3 (75th Percentile): 414742098.0\n"
     ]
    }
   ],
   "source": [
    "import pandas as pd\n",
    "\n",
    "# Mengimpor dataset dari file CSV\n",
    "data = pd.read_csv('dataset-reviews.csv') \n",
    "\n",
    "# Tentukan kolom numerik yang ingin  dihitung statistiknya\n",
    "numeric_column = 'itemId' \n",
    "\n",
    "# Hitung statistik\n",
    "mean = data[numeric_column].mean()\n",
    "std_dev = data[numeric_column].std()\n",
    "min_value = data[numeric_column].min()\n",
    "max_value = data[numeric_column].max()\n",
    "q1 = data[numeric_column].quantile(0.25)\n",
    "q2 = data[numeric_column].quantile(0.5)  \n",
    "q3 = data[numeric_column].quantile(0.75)\n",
    "\n",
    "# Cetak hasil\n",
    "print(\"Mean:\", mean)\n",
    "print(\"Standard Deviation:\", std_dev)\n",
    "print(\"Minimum Value:\", min_value)\n",
    "print(\"Maximum Value:\", max_value)\n",
    "print(\"Q1 (25th Percentile):\", q1)\n",
    "print(\"Q2 (Median - 50th Percentile):\", q2)\n",
    "print(\"Q3 (75th Percentile):\", q3)"
   ]
  },
  {
   "cell_type": "markdown",
   "id": "afa051cd-de70-48d4-9f44-035af6d420ea",
   "metadata": {},
   "source": [
    "### Soal No 2"
   ]
  },
  {
   "cell_type": "code",
   "execution_count": 2,
   "id": "544f22d7-6396-4c5d-b694-2b071b0a52ae",
   "metadata": {},
   "outputs": [
    {
     "name": "stdout",
     "output_type": "stream",
     "text": [
      "0           Kamal U.\n",
      "1         yofanca m.\n",
      "2    Lazada Customer\n",
      "3    Lazada Customer\n",
      "4           Yosep M.\n",
      "5              Deden\n",
      "6              Yeana\n",
      "7          nurfarida\n",
      "8          Fadjar B.\n",
      "9           agung p.\n",
      "Name: name, dtype: object\n"
     ]
    }
   ],
   "source": [
    "# masukan'numeric_column' dengan nama kolom numerik dalam dataset Anda\n",
    "numeric_column = 'name'\n",
    "\n",
    "# Menampilkan 10 baris pertama dari kolom numerik\n",
    "first_10_records = data[numeric_column].head(10)\n",
    "print(first_10_records)"
   ]
  },
  {
   "cell_type": "markdown",
   "id": "abb38d7f-8d57-43b0-bf11-bac1afa9d8ef",
   "metadata": {},
   "source": [
    "### Soal No 3"
   ]
  },
  {
   "cell_type": "code",
   "execution_count": 3,
   "id": "416e0eaa-e888-4c31-8e3a-2df3b6f40643",
   "metadata": {},
   "outputs": [
    {
     "name": "stdout",
     "output_type": "stream",
     "text": [
      "Jumlah Record: 203787\n",
      "Jumlah Attribute: 15\n",
      "Nama Attribute: ['itemId', 'category', 'name', 'rating', 'originalRating', 'reviewTitle', 'reviewContent', 'likeCount', 'upVotes', 'downVotes', 'helpful', 'relevanceScore', 'boughtDate', 'clientType', 'retrievedDate']\n",
      "Jumlah Attribute dengan Tipe Angka: 7\n"
     ]
    }
   ],
   "source": [
    "import pandas as pd\n",
    "\n",
    "# Mengimpor dataset dari file CSV\n",
    "data = pd.read_csv('dataset-reviews.csv')\n",
    "\n",
    "# Mengumpulkan informasi yang diminta\n",
    "info_dict = {\n",
    "    \"Jumlah Record\": len(data),\n",
    "    \"Jumlah Attribute\": len(data.columns),\n",
    "    \"Nama Attribute\": list(data.columns),\n",
    "    \"Jumlah Attribute dengan Tipe Angka\": len(data.select_dtypes(include=['number']).columns)\n",
    "}\n",
    "\n",
    "# Menampilkan isi dictionary\n",
    "for key, value in info_dict.items():\n",
    "    print(f\"{key}: {value}\")"
   ]
  },
  {
   "cell_type": "markdown",
   "id": "c93f0d15-5f3d-4085-87af-f51142a42af7",
   "metadata": {},
   "source": [
    "### Soal No 4"
   ]
  },
  {
   "cell_type": "code",
   "execution_count": 4,
   "id": "6ad36f28-518e-4266-a4ef-6165cd131eed",
   "metadata": {},
   "outputs": [
    {
     "name": "stdout",
     "output_type": "stream",
     "text": [
      "        rating  originalRating                      reviewTitle  \\\n",
      "113          5             NaN                              NaN   \n",
      "114          5             NaN                              NaN   \n",
      "115          5             NaN                              NaN   \n",
      "116          5             NaN                             GOOD   \n",
      "117          4             NaN                              NaN   \n",
      "...        ...             ...                              ...   \n",
      "203782       5             NaN                            murah   \n",
      "203783       3             NaN  barang bagus dan sesuai pesanan   \n",
      "203784       5             NaN                              NaN   \n",
      "203785       3             NaN                     AKARI LED TV   \n",
      "203786       5             NaN                          TOP DAH   \n",
      "\n",
      "                                            reviewContent  likeCount  upVotes  \\\n",
      "113                                                   NaN          0        0   \n",
      "114                                                   NaN          0        0   \n",
      "115                                                   NaN          0        0   \n",
      "116     barang bagus quick respon hari ini pesan besok...          0        0   \n",
      "117                                                   NaN          0        0   \n",
      "...                                                   ...        ...      ...   \n",
      "203782               barang bagus dengan harga kompetitif          6        6   \n",
      "203783                                                NaN          0        0   \n",
      "203784                                                NaN          0        0   \n",
      "203785  Ok.thank lazada Pagi order sore barang nyampe ...          0        0   \n",
      "203786  semua fitur berfungsi,harganya cukup murah. AK...          0        0   \n",
      "\n",
      "        downVotes  helpful  relevanceScore   boughtDate  clientType  \\\n",
      "113             0     True           25.00  22 Sep 2019  androidApp   \n",
      "114             0     True           24.15  17 Jul 2019  androidApp   \n",
      "115             0     True           24.01  15 Mei 2019  androidApp   \n",
      "116             0     True           23.03  03 Jul 2018     desktop   \n",
      "117             0     True           23.01  30 Mar 2019      mobile   \n",
      "...           ...      ...             ...          ...         ...   \n",
      "203782          0     True           24.63  22 Nov 2016     desktop   \n",
      "203783          0     True           14.01  10 Apr 2018  androidApp   \n",
      "203784          0     True           15.63  04 Jan 2018  androidApp   \n",
      "203785          0     True           19.48  15 Nov 2016  mobile-app   \n",
      "203786          0     True            9.50          NaN  mobile-app   \n",
      "\n",
      "       retrievedDate  \n",
      "113       2019-10-02  \n",
      "114       2019-10-02  \n",
      "115       2019-10-02  \n",
      "116       2019-10-02  \n",
      "117       2019-10-02  \n",
      "...              ...  \n",
      "203782    2019-10-02  \n",
      "203783    2019-10-02  \n",
      "203784    2019-10-02  \n",
      "203785    2019-10-02  \n",
      "203786    2019-10-02  \n",
      "\n",
      "[203674 rows x 12 columns]\n"
     ]
    }
   ],
   "source": [
    "import pandas as pd\n",
    "\n",
    "# Mengimpor dataset dari file CSV\n",
    "data = pd.read_csv('dataset-reviews.csv')\n",
    "\n",
    "# Menggunakan metode slice dengan iloc\n",
    "sliced_data = data.iloc[113:, 3:]\n",
    "print(sliced_data)"
   ]
  },
  {
   "cell_type": "markdown",
   "id": "76dcff22-e934-46f7-a6e1-01dd375afd4b",
   "metadata": {},
   "source": [
    "### Soal No 5"
   ]
  },
  {
   "cell_type": "code",
   "execution_count": 5,
   "id": "4885edc5-15a2-4fdc-aca9-62364bb83255",
   "metadata": {},
   "outputs": [
    {
     "name": "stdout",
     "output_type": "stream",
     "text": [
      "category             5\n",
      "name             40099\n",
      "reviewTitle       5724\n",
      "reviewContent    38071\n",
      "boughtDate        1690\n",
      "clientType           5\n",
      "retrievedDate        1\n",
      "dtype: int64\n"
     ]
    }
   ],
   "source": [
    "import pandas as pd\n",
    "\n",
    "# Mengimpor dataset dari file CSV\n",
    "data = pd.read_csv('dataset-reviews.csv')\n",
    "\n",
    "# Memilih kolom dengan tipe data objek\n",
    "object_columns = data.select_dtypes(include=['object'])\n",
    "\n",
    "# Menghitung jumlah label unik untuk setiap kolom\n",
    "label_counts = object_columns.apply(lambda col: col.nunique())\n",
    "\n",
    "# Menampilkan jumlah label untuk semua attribute yang bernilai objek\n",
    "print(label_counts)"
   ]
  },
  {
   "cell_type": "code",
   "execution_count": null,
   "id": "84732d1a-d172-4802-839f-9421bacc0081",
   "metadata": {},
   "outputs": [],
   "source": []
  }
 ],
 "metadata": {
  "kernelspec": {
   "display_name": "Python 3 (ipykernel)",
   "language": "python",
   "name": "python3"
  },
  "language_info": {
   "codemirror_mode": {
    "name": "ipython",
    "version": 3
   },
   "file_extension": ".py",
   "mimetype": "text/x-python",
   "name": "python",
   "nbconvert_exporter": "python",
   "pygments_lexer": "ipython3",
   "version": "3.11.5"
  }
 },
 "nbformat": 4,
 "nbformat_minor": 5
}
