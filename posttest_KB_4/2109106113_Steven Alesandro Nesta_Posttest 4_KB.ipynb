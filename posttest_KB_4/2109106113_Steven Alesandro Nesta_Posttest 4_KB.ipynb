{
 "cells": [
  {
   "cell_type": "markdown",
   "id": "e3a42360-14a5-4967-927a-2f572b224e6d",
   "metadata": {},
   "source": [
    "### DataSet Lazada https://drive.google.com/drive/folders/1-Vzi94sbb4yxKwbbp_yddJ4jYbEm8rDb?usp=drive_link"
   ]
  },
  {
   "cell_type": "markdown",
   "id": "f07a6531-9590-48d2-a7b2-f3d56642c779",
   "metadata": {},
   "source": [
    "### POSTTEST 4\n",
    "- Nama : Steven Alesandro Nesta\n",
    "- NIM : 2109106113\n",
    "- Informatika C1'21"
   ]
  },
  {
   "cell_type": "markdown",
   "id": "246060f8-531e-480a-8b72-6efd4efb9c1e",
   "metadata": {},
   "source": [
    "### IMPORT LIBRARY"
   ]
  },
  {
   "cell_type": "code",
   "execution_count": 15,
   "id": "c1297db1-81d8-49d1-9785-a832627e94ac",
   "metadata": {},
   "outputs": [],
   "source": [
    "import numpy as np\n",
    "import pandas as pd\n",
    "from sklearn.preprocessing import MinMaxScaler, StandardScaler, OneHotEncoder\n",
    "from sklearn.model_selection import train_test_split\n",
    "from sklearn.impute import SimpleImputer\n",
    "from sklearn.preprocessing import StandardScaler"
   ]
  },
  {
   "cell_type": "markdown",
   "id": "04ca244a-91e3-47a1-9651-2f8bc0c93718",
   "metadata": {},
   "source": [
    "## INFO DATA"
   ]
  },
  {
   "cell_type": "code",
   "execution_count": 16,
   "id": "b155e383-32a4-466e-b545-9e0e4758e542",
   "metadata": {},
   "outputs": [
    {
     "name": "stdout",
     "output_type": "stream",
     "text": [
      "<class 'pandas.core.frame.DataFrame'>\n",
      "RangeIndex: 203787 entries, 0 to 203786\n",
      "Data columns (total 15 columns):\n",
      " #   Column          Non-Null Count   Dtype  \n",
      "---  ------          --------------   -----  \n",
      " 0   itemId          203787 non-null  int64  \n",
      " 1   category        203787 non-null  object \n",
      " 2   name            203787 non-null  object \n",
      " 3   rating          203787 non-null  int64  \n",
      " 4   originalRating  8 non-null       float64\n",
      " 5   reviewTitle     23399 non-null   object \n",
      " 6   reviewContent   107029 non-null  object \n",
      " 7   likeCount       203787 non-null  int64  \n",
      " 8   upVotes         203787 non-null  int64  \n",
      " 9   downVotes       203787 non-null  int64  \n",
      " 10  helpful         203787 non-null  bool   \n",
      " 11  relevanceScore  203787 non-null  float64\n",
      " 12  boughtDate      196680 non-null  object \n",
      " 13  clientType      203787 non-null  object \n",
      " 14  retrievedDate   203787 non-null  object \n",
      "dtypes: bool(1), float64(2), int64(5), object(7)\n",
      "memory usage: 22.0+ MB\n"
     ]
    }
   ],
   "source": [
    "import pandas as pd\n",
    "df = pd.read_csv('dataset-reviews.csv')\n",
    "df.info()"
   ]
  },
  {
   "cell_type": "code",
   "execution_count": 17,
   "id": "a88e233d-fc7e-4b69-8111-17a7adc336e2",
   "metadata": {},
   "outputs": [
    {
     "data": {
      "text/plain": [
       "(203787, 15)"
      ]
     },
     "execution_count": 17,
     "metadata": {},
     "output_type": "execute_result"
    }
   ],
   "source": [
    "df.shape"
   ]
  },
  {
   "cell_type": "markdown",
   "id": "f3d68ce0-0240-48d1-aaef-c16bd6a1dd48",
   "metadata": {},
   "source": [
    "## Data split 70:30\n",
    "- Bagi dataset menjadi training set dan testing set dengan proporsi 70:30"
   ]
  },
  {
   "cell_type": "code",
   "execution_count": 18,
   "id": "0adc2467-8558-4c5d-9c26-94e678064b20",
   "metadata": {},
   "outputs": [
    {
     "name": "stdout",
     "output_type": "stream",
     "text": [
      "Dimensi X_train (142650, 14)\n",
      "Dimensi X_test (61137, 14)\n",
      "Dimensi y_train (142650,)\n",
      "Dimensi y_test (61137,)\n"
     ]
    }
   ],
   "source": [
    "X = df.iloc[:, : -1]\n",
    "y = df.iloc[:, -1]\n",
    "\n",
    "X_train, X_test, y_train, y_test = train_test_split(X, y, test_size=0.3)\n",
    "\n",
    "print(\"Dimensi X_train\", X_train.shape)\n",
    "print(\"Dimensi X_test\", X_test.shape)\n",
    "print(\"Dimensi y_train\", y_train.shape)\n",
    "print(\"Dimensi y_test\", y_test.shape)"
   ]
  },
  {
   "cell_type": "markdown",
   "id": "522a3e32-73c1-4a70-abcb-185e020d3563",
   "metadata": {},
   "source": [
    "## NORMALISASI DATA\n",
    "- Lakukan normalisasi data pada salah satu attribute menggunakan Min Max scaler (buatlah copy dataset terlebih dahulu)"
   ]
  },
  {
   "cell_type": "code",
   "execution_count": 19,
   "id": "5edfc25c-11a9-4e1a-bb47-28789d504729",
   "metadata": {},
   "outputs": [
    {
     "name": "stdout",
     "output_type": "stream",
     "text": [
      "\n",
      "Data Sebelum dan Sesudah dilakukan normalisasi : \n",
      "\n"
     ]
    },
    {
     "data": {
      "text/html": [
       "<div>\n",
       "<style scoped>\n",
       "    .dataframe tbody tr th:only-of-type {\n",
       "        vertical-align: middle;\n",
       "    }\n",
       "\n",
       "    .dataframe tbody tr th {\n",
       "        vertical-align: top;\n",
       "    }\n",
       "\n",
       "    .dataframe thead th {\n",
       "        text-align: right;\n",
       "    }\n",
       "</style>\n",
       "<table border=\"1\" class=\"dataframe\">\n",
       "  <thead>\n",
       "    <tr style=\"text-align: right;\">\n",
       "      <th></th>\n",
       "      <th>rating</th>\n",
       "      <th>rating_Normalization</th>\n",
       "    </tr>\n",
       "  </thead>\n",
       "  <tbody>\n",
       "    <tr>\n",
       "      <th>0</th>\n",
       "      <td>5</td>\n",
       "      <td>1.00</td>\n",
       "    </tr>\n",
       "    <tr>\n",
       "      <th>1</th>\n",
       "      <td>4</td>\n",
       "      <td>0.75</td>\n",
       "    </tr>\n",
       "    <tr>\n",
       "      <th>2</th>\n",
       "      <td>5</td>\n",
       "      <td>1.00</td>\n",
       "    </tr>\n",
       "    <tr>\n",
       "      <th>3</th>\n",
       "      <td>4</td>\n",
       "      <td>0.75</td>\n",
       "    </tr>\n",
       "    <tr>\n",
       "      <th>4</th>\n",
       "      <td>5</td>\n",
       "      <td>1.00</td>\n",
       "    </tr>\n",
       "    <tr>\n",
       "      <th>5</th>\n",
       "      <td>5</td>\n",
       "      <td>1.00</td>\n",
       "    </tr>\n",
       "    <tr>\n",
       "      <th>6</th>\n",
       "      <td>5</td>\n",
       "      <td>1.00</td>\n",
       "    </tr>\n",
       "    <tr>\n",
       "      <th>7</th>\n",
       "      <td>1</td>\n",
       "      <td>0.00</td>\n",
       "    </tr>\n",
       "    <tr>\n",
       "      <th>8</th>\n",
       "      <td>1</td>\n",
       "      <td>0.00</td>\n",
       "    </tr>\n",
       "    <tr>\n",
       "      <th>9</th>\n",
       "      <td>5</td>\n",
       "      <td>1.00</td>\n",
       "    </tr>\n",
       "  </tbody>\n",
       "</table>\n",
       "</div>"
      ],
      "text/plain": [
       "   rating  rating_Normalization\n",
       "0       5                  1.00\n",
       "1       4                  0.75\n",
       "2       5                  1.00\n",
       "3       4                  0.75\n",
       "4       5                  1.00\n",
       "5       5                  1.00\n",
       "6       5                  1.00\n",
       "7       1                  0.00\n",
       "8       1                  0.00\n",
       "9       5                  1.00"
      ]
     },
     "execution_count": 19,
     "metadata": {},
     "output_type": "execute_result"
    }
   ],
   "source": [
    "min_max = MinMaxScaler()\n",
    "\n",
    "# Copy Data\n",
    "copy1 = df\n",
    "dataCopy_normalization = copy1[[\"rating\"]]\n",
    "\n",
    "normalization = min_max.fit_transform(dataCopy_normalization[[\"rating\"]])\n",
    "\n",
    "df_normalization = pd.DataFrame(normalization)\n",
    "df_normalization.columns =[\"rating_Normalization\"]\n",
    "\n",
    "dataCopy_normalization = dataCopy_normalization.join(df_normalization[\"rating_Normalization\"]).reset_index()\n",
    "dataCopy_normalization = dataCopy_normalization.drop(\"index\", axis=1)\n",
    "\n",
    "print()\n",
    "print(\"Data Sebelum dan Sesudah dilakukan normalisasi : \\n\")\n",
    "dataCopy_normalization.head(10)"
   ]
  },
  {
   "cell_type": "markdown",
   "id": "67dfbf13-f36f-48be-b615-d6bc3b8f6bfc",
   "metadata": {},
   "source": [
    "### STANDARISASI \n",
    "- standarisasi pada dataset (buatlah copy dataset terlebih dahulu)"
   ]
  },
  {
   "cell_type": "code",
   "execution_count": 22,
   "id": "181fdfa3-6a9f-42ca-a60f-2c0120d40487",
   "metadata": {},
   "outputs": [
    {
     "name": "stdout",
     "output_type": "stream",
     "text": [
      "Atribut 'points' Sebelum dan Sesudah Standarisasi:\n",
      "\n",
      "Sebelum Standarisasi:\n",
      "\n",
      "   rating\n",
      "0       5\n",
      "1       4\n",
      "2       5\n",
      "3       4\n",
      "4       5\n",
      "5       5\n",
      "6       5\n",
      "7       1\n",
      "8       1\n",
      "9       5\n",
      "\n",
      "Sesudah Standarisasi:\n",
      "\n",
      "     rating\n",
      "0  0.400300\n",
      "1 -0.608617\n",
      "2  0.400300\n",
      "3 -0.608617\n",
      "4  0.400300\n",
      "5  0.400300\n",
      "6  0.400300\n",
      "7 -3.635367\n",
      "8 -3.635367\n",
      "9  0.400300\n"
     ]
    }
   ],
   "source": [
    "data_copy = df.copy()\n",
    "\n",
    "attribute_to_standardize = 'rating'\n",
    "\n",
    "scaler = StandardScaler()\n",
    "\n",
    "data_copy[[attribute_to_standardize]] = scaler.fit_transform(data_copy[[attribute_to_standardize]])\n",
    "\n",
    "print(\"Atribut 'points' Sebelum dan Sesudah Standarisasi:\\n\")\n",
    "print(\"Sebelum Standarisasi:\\n\")\n",
    "print(df[[attribute_to_standardize]].head(10))\n",
    "print(\"\\nSesudah Standarisasi:\\n\")\n",
    "print(data_copy[[attribute_to_standardize]].head(10))"
   ]
  },
  {
   "cell_type": "markdown",
   "id": "f89dccce-9ff3-4db9-ac0d-962357345fbd",
   "metadata": {},
   "source": [
    "## DATA CLEANING \r\n",
    "### Nilai null\r\n",
    "Lakukan Data cleaning pada data dengan nilai null (jika tidak ada nilai null pada dataset, maka buatlah menjadi ada). Ganti nilai null sesuai ketentuan. (bilangan bulat : median/modus, bilangan desimal : mean, tulisan : modus). Nilai plus jika strategy yang digunakan menggunakan 3 nilai "
   ]
  },
  {
   "cell_type": "code",
   "execution_count": 23,
   "id": "35d7275e-ced1-4434-ac0b-e6a08a1abd2a",
   "metadata": {},
   "outputs": [
    {
     "data": {
      "text/plain": [
       "itemId                 0\n",
       "category               0\n",
       "name                   0\n",
       "rating                 0\n",
       "originalRating    203779\n",
       "reviewTitle       180388\n",
       "reviewContent      96758\n",
       "likeCount              0\n",
       "upVotes                0\n",
       "downVotes              0\n",
       "helpful                0\n",
       "relevanceScore         0\n",
       "boughtDate          7107\n",
       "clientType             0\n",
       "retrievedDate          0\n",
       "dtype: int64"
      ]
     },
     "execution_count": 23,
     "metadata": {},
     "output_type": "execute_result"
    }
   ],
   "source": [
    "df.isna().sum()"
   ]
  },
  {
   "cell_type": "markdown",
   "id": "9d779547-9756-463d-9775-e6f057c8faa8",
   "metadata": {},
   "source": [
    "### Data Bilangan Bulat dengan Strategi Median"
   ]
  },
  {
   "cell_type": "code",
   "execution_count": 24,
   "id": "41fb62f1-173e-4045-9dbe-dabf0855d633",
   "metadata": {},
   "outputs": [
    {
     "data": {
      "text/plain": [
       "itemId                 0\n",
       "category               0\n",
       "name                   0\n",
       "rating                 0\n",
       "originalRating         0\n",
       "reviewTitle       180388\n",
       "reviewContent      96758\n",
       "likeCount              0\n",
       "upVotes                0\n",
       "downVotes              0\n",
       "helpful                0\n",
       "relevanceScore         0\n",
       "boughtDate          7107\n",
       "clientType             0\n",
       "retrievedDate          0\n",
       "dtype: int64"
      ]
     },
     "execution_count": 24,
     "metadata": {},
     "output_type": "execute_result"
    }
   ],
   "source": [
    "strategi1 = SimpleImputer(strategy=\"median\")\n",
    "\n",
    "df[\"originalRating\"] = strategi1.fit_transform(df[[\"originalRating\"]])\n",
    "\n",
    "df.isna().sum()"
   ]
  },
  {
   "cell_type": "markdown",
   "id": "88a18e61-ea70-4fd4-aa5d-b47552ce26fd",
   "metadata": {},
   "source": [
    "## menghapus atribut tipe string yg bernilai null"
   ]
  },
  {
   "cell_type": "code",
   "execution_count": 25,
   "id": "09e3e59f-d89a-4dbf-9bf3-30a6802d7db6",
   "metadata": {},
   "outputs": [],
   "source": [
    "kolom_null = df.columns[df.isna().any()].tolist()"
   ]
  },
  {
   "cell_type": "code",
   "execution_count": 26,
   "id": "655bd909-f1f2-49f6-8041-b489c8bdd286",
   "metadata": {},
   "outputs": [],
   "source": [
    "df.drop(columns=kolom_null, inplace=True)"
   ]
  },
  {
   "cell_type": "code",
   "execution_count": 27,
   "id": "42d130c8-cfe5-46a7-811d-dd89afa53d4d",
   "metadata": {},
   "outputs": [
    {
     "data": {
      "text/plain": [
       "itemId            0\n",
       "category          0\n",
       "name              0\n",
       "rating            0\n",
       "originalRating    0\n",
       "likeCount         0\n",
       "upVotes           0\n",
       "downVotes         0\n",
       "helpful           0\n",
       "relevanceScore    0\n",
       "clientType        0\n",
       "retrievedDate     0\n",
       "dtype: int64"
      ]
     },
     "execution_count": 27,
     "metadata": {},
     "output_type": "execute_result"
    }
   ],
   "source": [
    "df.isna().sum()"
   ]
  },
  {
   "cell_type": "markdown",
   "id": "10f88f4c-f2da-4310-853d-f4f0fb14b326",
   "metadata": {},
   "source": [
    "### Nilai Duplikat \n",
    "Lakukan Data cleaning pada data dengan nilai duplikat. (Jika tidak ada nilai duplikat pada dataset, maka buatlah menjadi ada)."
   ]
  },
  {
   "cell_type": "code",
   "execution_count": 28,
   "id": "b9ddde4c-96ab-4641-867f-7b9a25c34a14",
   "metadata": {},
   "outputs": [
    {
     "name": "stdout",
     "output_type": "stream",
     "text": [
      "Jumlah Data Duplikat : \n"
     ]
    },
    {
     "data": {
      "text/plain": [
       "15708"
      ]
     },
     "execution_count": 28,
     "metadata": {},
     "output_type": "execute_result"
    }
   ],
   "source": [
    "df[df.duplicated()]\n",
    "\n",
    "print(\"Jumlah Data Duplikat : \")\n",
    "df.duplicated().sum()"
   ]
  },
  {
   "cell_type": "code",
   "execution_count": 29,
   "id": "a1b54141-7b68-448d-b4b6-96c6b336c131",
   "metadata": {},
   "outputs": [
    {
     "data": {
      "text/plain": [
       "0         False\n",
       "1         False\n",
       "2         False\n",
       "3         False\n",
       "4         False\n",
       "          ...  \n",
       "407569     True\n",
       "407570     True\n",
       "407571     True\n",
       "407572     True\n",
       "407573     True\n",
       "Length: 407574, dtype: bool"
      ]
     },
     "execution_count": 29,
     "metadata": {},
     "output_type": "execute_result"
    }
   ],
   "source": [
    "make_duplicated = pd.concat([df]*2, ignore_index=True)\n",
    "make_duplicated.duplicated()"
   ]
  },
  {
   "cell_type": "code",
   "execution_count": 30,
   "id": "b8381391-f514-44cf-8889-7697e4f6ee89",
   "metadata": {},
   "outputs": [
    {
     "name": "stdout",
     "output_type": "stream",
     "text": [
      "Jumlah data duplicated setelah di drop :\n"
     ]
    },
    {
     "data": {
      "text/plain": [
       "0"
      ]
     },
     "execution_count": 30,
     "metadata": {},
     "output_type": "execute_result"
    }
   ],
   "source": [
    "make_duplicated.drop_duplicates(inplace=True)\n",
    "\n",
    "hasil = make_duplicated.reset_index(drop=True)\n",
    "print(\"Jumlah data duplicated setelah di drop :\")\n",
    "hasil.duplicated().sum()"
   ]
  },
  {
   "cell_type": "markdown",
   "id": "6ace478c-f882-4e73-8f8c-dafabb56ec35",
   "metadata": {},
   "source": [
    "## Ganti tipe data salah satu attribute angka"
   ]
  },
  {
   "cell_type": "code",
   "execution_count": 31,
   "id": "8e1dd720-c231-4ee6-b6e0-6271eba66266",
   "metadata": {},
   "outputs": [
    {
     "name": "stdout",
     "output_type": "stream",
     "text": [
      "Tipe data rating sebelum d :\n"
     ]
    },
    {
     "data": {
      "text/plain": [
       "dtype('int64')"
      ]
     },
     "execution_count": 31,
     "metadata": {},
     "output_type": "execute_result"
    }
   ],
   "source": [
    "print(\"Tipe data rating sebelum d :\")\n",
    "df[\"rating\"].dtypes"
   ]
  },
  {
   "cell_type": "code",
   "execution_count": 32,
   "id": "8a08a1cd-eaa9-4baf-97cf-bfdad7387be2",
   "metadata": {},
   "outputs": [
    {
     "name": "stdout",
     "output_type": "stream",
     "text": [
      "Tipe data tenure setelah diubah :\n"
     ]
    },
    {
     "data": {
      "text/plain": [
       "dtype('int32')"
      ]
     },
     "execution_count": 32,
     "metadata": {},
     "output_type": "execute_result"
    }
   ],
   "source": [
    "ubah_dtype = df[\"rating\"].astype(\"int\")\n",
    "print(\"Tipe data tenure setelah diubah :\")\n",
    "ubah_dtype.dtypes"
   ]
  },
  {
   "cell_type": "markdown",
   "id": "f0b7ee9c-716a-441e-a4f7-7365273f1819",
   "metadata": {},
   "source": [
    "## Lakukan one hot encoding pada dataset yang kalian miliki"
   ]
  },
  {
   "cell_type": "code",
   "execution_count": 33,
   "id": "b9c0b1de-2fd7-4381-b2ea-11a05b67a4f8",
   "metadata": {},
   "outputs": [
    {
     "data": {
      "text/html": [
       "<div>\n",
       "<style scoped>\n",
       "    .dataframe tbody tr th:only-of-type {\n",
       "        vertical-align: middle;\n",
       "    }\n",
       "\n",
       "    .dataframe tbody tr th {\n",
       "        vertical-align: top;\n",
       "    }\n",
       "\n",
       "    .dataframe thead th {\n",
       "        text-align: right;\n",
       "    }\n",
       "</style>\n",
       "<table border=\"1\" class=\"dataframe\">\n",
       "  <thead>\n",
       "    <tr style=\"text-align: right;\">\n",
       "      <th></th>\n",
       "      <th>rating</th>\n",
       "      <th>0</th>\n",
       "      <th>1</th>\n",
       "      <th>2</th>\n",
       "      <th>3</th>\n",
       "      <th>4</th>\n",
       "    </tr>\n",
       "  </thead>\n",
       "  <tbody>\n",
       "    <tr>\n",
       "      <th>0</th>\n",
       "      <td>5</td>\n",
       "      <td>0.0</td>\n",
       "      <td>0.0</td>\n",
       "      <td>0.0</td>\n",
       "      <td>0.0</td>\n",
       "      <td>1.0</td>\n",
       "    </tr>\n",
       "    <tr>\n",
       "      <th>1</th>\n",
       "      <td>4</td>\n",
       "      <td>0.0</td>\n",
       "      <td>0.0</td>\n",
       "      <td>0.0</td>\n",
       "      <td>1.0</td>\n",
       "      <td>0.0</td>\n",
       "    </tr>\n",
       "    <tr>\n",
       "      <th>2</th>\n",
       "      <td>5</td>\n",
       "      <td>0.0</td>\n",
       "      <td>0.0</td>\n",
       "      <td>0.0</td>\n",
       "      <td>0.0</td>\n",
       "      <td>1.0</td>\n",
       "    </tr>\n",
       "    <tr>\n",
       "      <th>3</th>\n",
       "      <td>4</td>\n",
       "      <td>0.0</td>\n",
       "      <td>0.0</td>\n",
       "      <td>0.0</td>\n",
       "      <td>1.0</td>\n",
       "      <td>0.0</td>\n",
       "    </tr>\n",
       "    <tr>\n",
       "      <th>4</th>\n",
       "      <td>5</td>\n",
       "      <td>0.0</td>\n",
       "      <td>0.0</td>\n",
       "      <td>0.0</td>\n",
       "      <td>0.0</td>\n",
       "      <td>1.0</td>\n",
       "    </tr>\n",
       "    <tr>\n",
       "      <th>5</th>\n",
       "      <td>5</td>\n",
       "      <td>0.0</td>\n",
       "      <td>0.0</td>\n",
       "      <td>0.0</td>\n",
       "      <td>0.0</td>\n",
       "      <td>1.0</td>\n",
       "    </tr>\n",
       "    <tr>\n",
       "      <th>6</th>\n",
       "      <td>5</td>\n",
       "      <td>0.0</td>\n",
       "      <td>0.0</td>\n",
       "      <td>0.0</td>\n",
       "      <td>0.0</td>\n",
       "      <td>1.0</td>\n",
       "    </tr>\n",
       "    <tr>\n",
       "      <th>7</th>\n",
       "      <td>1</td>\n",
       "      <td>1.0</td>\n",
       "      <td>0.0</td>\n",
       "      <td>0.0</td>\n",
       "      <td>0.0</td>\n",
       "      <td>0.0</td>\n",
       "    </tr>\n",
       "    <tr>\n",
       "      <th>8</th>\n",
       "      <td>1</td>\n",
       "      <td>1.0</td>\n",
       "      <td>0.0</td>\n",
       "      <td>0.0</td>\n",
       "      <td>0.0</td>\n",
       "      <td>0.0</td>\n",
       "    </tr>\n",
       "    <tr>\n",
       "      <th>9</th>\n",
       "      <td>5</td>\n",
       "      <td>0.0</td>\n",
       "      <td>0.0</td>\n",
       "      <td>0.0</td>\n",
       "      <td>0.0</td>\n",
       "      <td>1.0</td>\n",
       "    </tr>\n",
       "  </tbody>\n",
       "</table>\n",
       "</div>"
      ],
      "text/plain": [
       "   rating    0    1    2    3    4\n",
       "0       5  0.0  0.0  0.0  0.0  1.0\n",
       "1       4  0.0  0.0  0.0  1.0  0.0\n",
       "2       5  0.0  0.0  0.0  0.0  1.0\n",
       "3       4  0.0  0.0  0.0  1.0  0.0\n",
       "4       5  0.0  0.0  0.0  0.0  1.0\n",
       "5       5  0.0  0.0  0.0  0.0  1.0\n",
       "6       5  0.0  0.0  0.0  0.0  1.0\n",
       "7       1  1.0  0.0  0.0  0.0  0.0\n",
       "8       1  1.0  0.0  0.0  0.0  0.0\n",
       "9       5  0.0  0.0  0.0  0.0  1.0"
      ]
     },
     "execution_count": 33,
     "metadata": {},
     "output_type": "execute_result"
    }
   ],
   "source": [
    "one_hot = OneHotEncoder(sparse_output=False)\n",
    "\n",
    "df_onehot = one_hot.fit_transform(df[[\"rating\"]])\n",
    "df_onehot = pd.DataFrame(df_onehot)\n",
    "df_oh = df[['rating']].join(df_onehot)\n",
    "\n",
    "\n",
    "df_oh.head(10)"
   ]
  },
  {
   "cell_type": "code",
   "execution_count": null,
   "id": "c6b7545a-84d8-42a8-ba4a-c9064fc7e168",
   "metadata": {},
   "outputs": [],
   "source": []
  }
 ],
 "metadata": {
  "kernelspec": {
   "display_name": "Python 3 (ipykernel)",
   "language": "python",
   "name": "python3"
  },
  "language_info": {
   "codemirror_mode": {
    "name": "ipython",
    "version": 3
   },
   "file_extension": ".py",
   "mimetype": "text/x-python",
   "name": "python",
   "nbconvert_exporter": "python",
   "pygments_lexer": "ipython3",
   "version": "3.11.5"
  }
 },
 "nbformat": 4,
 "nbformat_minor": 5
}
